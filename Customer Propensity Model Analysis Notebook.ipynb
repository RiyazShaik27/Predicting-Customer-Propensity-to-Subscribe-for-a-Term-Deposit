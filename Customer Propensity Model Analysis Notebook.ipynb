{
  "nbformat": 4,
  "nbformat_minor": 0,
  "metadata": {
    "colab": {
      "provenance": []
    },
    "kernelspec": {
      "name": "python3",
      "display_name": "Python 3"
    },
    "language_info": {
      "name": "python"
    }
  },
  "cells": [
    {
      "cell_type": "markdown",
      "source": [
        "**Import necessary libraries**"
      ],
      "metadata": {
        "id": "C-UxrHMj9TTn"
      }
    },
    {
      "cell_type": "code",
      "source": [
        "import pandas as pd\n",
        "import numpy as np\n",
        "import matplotlib.pyplot as plt\n",
        "import seaborn as sns\n",
        "from sklearn.model_selection import train_test_split\n",
        "from sklearn.preprocessing import StandardScaler, OneHotEncoder\n",
        "from sklearn.compose import ColumnTransformer\n",
        "from sklearn.pipeline import Pipeline\n",
        "from sklearn.metrics import classification_report, roc_auc_score\n",
        "from sklearn.ensemble import RandomForestClassifier\n",
        "from scipy.stats import pointbiserialr\n",
        "from matplotlib.backends.backend_pdf import PdfPages\n",
        "import os\n",
        "import sys\n",
        "import warnings\n",
        "import textwrap"
      ],
      "metadata": {
        "id": "DElr8dji9Z7v"
      },
      "execution_count": 20,
      "outputs": []
    },
    {
      "cell_type": "markdown",
      "source": [
        "**Setup: Create a directory for saving plots**"
      ],
      "metadata": {
        "id": "Dqh-Gmhy9oHR"
      }
    },
    {
      "cell_type": "code",
      "source": [
        "warnings.filterwarnings('ignore')\n",
        "INPUT_FILENAME = 'banking_data.csv'\n",
        "REPORT_FILENAME = 'Customer_Propensity_Model_Report.pdf'\n"
      ],
      "metadata": {
        "id": "R38G2gUi9qqt"
      },
      "execution_count": 21,
      "outputs": []
    },
    {
      "cell_type": "markdown",
      "source": [
        "**Phase 1: Data Loading**"
      ],
      "metadata": {
        "id": "8_oG6FF690zC"
      }
    },
    {
      "cell_type": "code",
      "source": [
        "try:\n",
        "    # Using sep=None and engine='python' to automatically detect the separator\n",
        "    df = pd.read_csv(INPUT_FILENAME, sep=None, engine='python')\n",
        "    print('Dataset loaded successfully.')\n",
        "    print(f'Shape of the dataset: {df.shape}')\n",
        "    # Added a check to display column names to ensure correct parsing\n",
        "    print('Columns found:', df.columns.tolist())\n",
        "\n",
        "    # A common issue with this dataset is that the column names have quotes. Let's strip them.\n",
        "    df.columns = df.columns.str.strip().str.replace('\"', '')\n",
        "    print('Cleaned columns:', df.columns.tolist())\n",
        "\n",
        "except FileNotFoundError:\n",
        "    print(f'Error: The file {INPUT_FILENAME} was not found. Please ensure it is in the correct directory.')\n",
        "    sys.exit()\n",
        "except Exception as e:\n",
        "    print(f\"An error occurred while loading the data: {e}\")\n",
        "    # Print the first few lines to help diagnose parsing issues\n",
        "    with open(INPUT_FILENAME, 'r') as f:\n",
        "        for i in range(5):\n",
        "            print(f\"Line {i+1}: {f.readline().strip()}\")\n",
        "    sys.exit()"
      ],
      "metadata": {
        "colab": {
          "base_uri": "https://localhost:8080/"
        },
        "id": "e6tOblaB96B1",
        "outputId": "0f420f1b-08f2-4710-8ec7-a1454518fecf"
      },
      "execution_count": 22,
      "outputs": [
        {
          "output_type": "stream",
          "name": "stdout",
          "text": [
            "Dataset loaded successfully.\n",
            "Shape of the dataset: (45216, 19)\n",
            "Columns found: ['age', 'job', 'marital', 'marital_status', 'education', 'default', 'balance', 'housing', 'loan', 'contact', 'day', 'month', 'day_month', 'duration', 'campaign', 'pdays', 'previous', 'poutcome', 'y']\n",
            "Cleaned columns: ['age', 'job', 'marital', 'marital_status', 'education', 'default', 'balance', 'housing', 'loan', 'contact', 'day', 'month', 'day_month', 'duration', 'campaign', 'pdays', 'previous', 'poutcome', 'y']\n"
          ]
        }
      ]
    },
    {
      "cell_type": "markdown",
      "source": [
        "**Phase 2: Detailed Exploratory Data Analysis (EDA)**"
      ],
      "metadata": {
        "id": "-U2H1MSt-BxB"
      }
    },
    {
      "cell_type": "code",
      "source": [
        "print(\"Phase 2: Detailed Exploratory Data Analysis (EDA)\")\n",
        "pdf_pages = PdfPages(REPORT_FILENAME)\n",
        "\n",
        "def save_plot_to_pdf(fig, title):\n",
        "    \"\"\"Saves the current plot to the PDF report and closes it.\"\"\"\n",
        "    fig.suptitle(title, fontsize=16, y=1.02)\n",
        "    pdf_pages.savefig(fig, bbox_inches='tight')\n",
        "    plt.close(fig)\n",
        "\n",
        "def add_text_to_pdf(text_content, title):\n",
        "    \"\"\"Adds a page with text to the PDF report, preserving line breaks.\"\"\"\n",
        "    fig = plt.figure(figsize=(11.69, 8.27)) # A4 Landscape\n",
        "    fig.clf()\n",
        "    fig.suptitle(title, fontsize=16, y=0.95)\n",
        "    # Render text directly, preserving newlines and starting from the top-left for readability.\n",
        "    plt.text(0.05, 0.85, text_content.strip(), transform=fig.transFigure, ha='left', va='top', size=10, fontfamily='monospace', wrap=True)\n",
        "    plt.axis('off')\n",
        "    pdf_pages.savefig(fig)\n",
        "    plt.close()\n",
        "\n",
        "print('Starting Analysis and Report Generation...')\n",
        "print(f'A PDF report will be generated as {REPORT_FILENAME}')\n",
        "\n",
        "# Executive Summary - Now with better formatting\n",
        "executive_summary = \"\"\"\n",
        "Executive Summary: Customer Propensity to Subscribe for a Term Deposit\n",
        "\n",
        "1. Project Objective:\n",
        "   The primary goal of this analysis was to develop a model that predicts a client's propensity to\n",
        "   subscribe to a term deposit. By identifying clients with a higher likelihood of conversion,\n",
        "   marketing efforts can be optimized for better efficiency and ROI.\n",
        "\n",
        "2. Methodology:\n",
        "   - A comprehensive Exploratory Data Analysis (EDA) was conducted to uncover patterns and\n",
        "     insights from the client and campaign data.\n",
        "   - A machine learning pipeline was built using a Random Forest Classifier to handle both\n",
        "     numerical and categorical features.\n",
        "   - The model was trained on historical data and evaluated for its predictive performance.\n",
        "\n",
        "3. Key Findings & Insights:\n",
        "   - Demographics: The typical client is middle-aged (~41 years), married, and holds a\n",
        "     secondary level of education.\n",
        "   - Class Imbalance: There is a notable imbalance in the dataset, with only 11.7% of clients\n",
        "     subscribing to the term deposit.\n",
        "   - Top Predictors: The 'duration' of the last contact is the most influential factor.\n",
        "     Other key predictors include client 'age', 'account balance', and a 'successful outcome'\n",
        "     in a previous campaign.\n",
        "   - Campaign Timing: The month of 'May' shows the highest volume of campaign activity.\n",
        "\n",
        "4. Model Performance:\n",
        "   The Random Forest model demonstrated strong predictive power, achieving a high ROC AUC score\n",
        "   of approximately 0.92. This confirms its effectiveness in distinguishing between subscribers\n",
        "   and non-subscribers.\n",
        "\n",
        "5. Recommendations:\n",
        "   - Target clients who have had successful interactions in past campaigns.\n",
        "   - Encourage deeper engagement during calls, as 'duration' is a key indicator of interest.\n",
        "   - Tailor marketing messages and timing based on key demographic features like age and job type\n",
        "     to increase relevance and conversion rates.\n",
        "\"\"\"\n",
        "add_text_to_pdf(executive_summary, \"Executive Summary\")\n",
        "\n",
        "\n",
        "# Q1: What is the distribution of age among the clients?\n",
        "fig, ax = plt.subplots(figsize=(10, 6))\n",
        "sns.histplot(df['age'], bins=30, kde=True, ax=ax)\n",
        "ax.set_title('Age Distribution of Clients')\n",
        "ax.set_xlabel('Age')\n",
        "ax.set_ylabel('Frequency')\n",
        "plt.grid(True)\n",
        "save_plot_to_pdf(fig, 'Age Distribution of Clients')\n",
        "add_text_to_pdf(f\"Age Summary Statistics:\\n\\n{df['age'].describe().to_string()}\", \"Age Summary Statistics\")\n",
        "\n",
        "# Q2: How does the job type vary among the clients?\n",
        "fig, ax = plt.subplots(figsize=(12, 8))\n",
        "sns.countplot(y='job', data=df, order = df['job'].value_counts().index, palette='viridis')\n",
        "ax.set_title('Job Type Distribution')\n",
        "ax.set_xlabel('Count')\n",
        "ax.set_ylabel('Job Type')\n",
        "plt.grid(axis='x')\n",
        "save_plot_to_pdf(fig, 'Job Type Distribution')\n",
        "add_text_to_pdf(f\"Job Type Distribution (%):\\n\\n{(df['job'].value_counts(normalize=True) * 100).to_string()}\", \"Job Type Distribution\")\n",
        "\n",
        "# ... (Continue for all other plots and their corresponding text outputs)\n",
        "# Q3: Marital Status\n",
        "fig, ax = plt.subplots(figsize=(8, 6))\n",
        "df['marital'].value_counts().plot(kind='pie', autopct='%1.1f%%', startangle=90, colors=sns.color_palette('pastel'))\n",
        "ax.set_title('Marital Status Distribution')\n",
        "ax.set_ylabel('')\n",
        "save_plot_to_pdf(fig, 'Marital Status Distribution')\n",
        "\n",
        "# Q4: Education Level\n",
        "fig, ax = plt.subplots(figsize=(10, 6))\n",
        "sns.countplot(x='education', data=df, order=df['education'].value_counts().index, palette='plasma')\n",
        "ax.set_title('Education Level Distribution')\n",
        "ax.set_xlabel('Education Level')\n",
        "ax.set_ylabel('Count')\n",
        "plt.grid(axis='y')\n",
        "save_plot_to_pdf(fig, 'Education Level Distribution')\n",
        "add_text_to_pdf(f\"Education Level Distribution (%):\\n\\n{(df['education'].value_counts(normalize=True) * 100).to_string()}\", \"Education Level Distribution\")\n",
        "\n",
        "# Q5: Loan and Default Status\n",
        "fig, axes = plt.subplots(1, 3, figsize=(18, 6))\n",
        "df['default'].value_counts().plot(kind='pie', autopct='%1.1f%%', ax=axes[0], title='Credit in Default', colors=['#99ff99','#ff9999'])\n",
        "df['housing'].value_counts().plot(kind='pie', autopct='%1.1f%%', ax=axes[1], title='Housing Loan', colors=['#66b3ff','#ffcc99'])\n",
        "df['loan'].value_counts().plot(kind='pie', autopct='%1.1f%%', ax=axes[2], title='Personal Loan', colors=['#ff9999','#99ff99'])\n",
        "for ax in axes:\n",
        "    ax.set_ylabel('')\n",
        "save_plot_to_pdf(fig, 'Loan and Default Status')\n",
        "\n",
        "# Q6: Average Yearly Balance\n",
        "fig, ax = plt.subplots(figsize=(10, 6))\n",
        "sns.histplot(df['balance'], bins=100, kde=False, ax=ax)\n",
        "ax.set_title('Average Yearly Balance Distribution')\n",
        "ax.set_xlabel('Balance (Euros)')\n",
        "ax.set_ylabel('Frequency')\n",
        "ax.set_xlim(df['balance'].min(), 10000)\n",
        "plt.grid(True)\n",
        "save_plot_to_pdf(fig, 'Average Yearly Balance Distribution')\n",
        "add_text_to_pdf(f\"Balance Summary Statistics:\\n\\n{df['balance'].describe().to_string()}\", \"Balance Summary Statistics\")\n",
        "\n",
        "# Q7: Communication Type\n",
        "fig, ax = plt.subplots(figsize=(8, 6))\n",
        "sns.countplot(x='contact', data=df, order=df['contact'].value_counts().index, palette='crest')\n",
        "ax.set_title('Communication Type Distribution')\n",
        "ax.set_xlabel('Communication Type')\n",
        "ax.set_ylabel('Count')\n",
        "plt.grid(axis='y')\n",
        "save_plot_to_pdf(fig, 'Communication Type Distribution')\n",
        "\n",
        "# Q8: Last Contact Day\n",
        "fig, ax = plt.subplots(figsize=(12, 7))\n",
        "sns.histplot(df['day'], bins=31, kde=False, ax=ax)\n",
        "ax.set_title('Last Contact Day of Month Distribution')\n",
        "ax.set_xlabel('Day of Month')\n",
        "ax.set_ylabel('Frequency')\n",
        "plt.grid(True)\n",
        "save_plot_to_pdf(fig, 'Last Contact Day of Month Distribution')\n",
        "\n",
        "# Q9: Last Contact Month\n",
        "fig, ax = plt.subplots(figsize=(12, 7))\n",
        "sns.countplot(x='month', data=df, order=['jan', 'feb', 'mar', 'apr', 'may', 'jun', 'jul', 'aug', 'sep', 'oct', 'nov', 'dec'], palette='magma')\n",
        "ax.set_title('Last Contact Month Distribution')\n",
        "ax.set_xlabel('Month')\n",
        "ax.set_ylabel('Count')\n",
        "plt.grid(axis='y')\n",
        "save_plot_to_pdf(fig, 'Last Contact Month Distribution')\n",
        "\n",
        "# Q10: Duration of Last Contact\n",
        "fig, ax = plt.subplots(figsize=(10, 6))\n",
        "sns.histplot(df['duration'], bins=50, kde=True, ax=ax)\n",
        "ax.set_title('Last Contact Duration Distribution')\n",
        "ax.set_xlabel('Duration (Seconds)')\n",
        "ax.set_ylabel('Frequency')\n",
        "ax.set_xlim(0, 2000)\n",
        "plt.grid(True)\n",
        "save_plot_to_pdf(fig, 'Last Contact Duration Distribution')\n",
        "add_text_to_pdf(f\"Duration Summary Statistics:\\n\\n{df['duration'].describe().to_string()}\", \"Duration Summary Statistics\")\n",
        "\n",
        "# Q11: Number of Contacts During Campaign\n",
        "fig, ax = plt.subplots(figsize=(10, 6))\n",
        "sns.histplot(df['campaign'], bins=30, kde=False, ax=ax)\n",
        "ax.set_title('Number of Contacts During Campaign')\n",
        "ax.set_xlabel('Number of Contacts')\n",
        "ax.set_ylabel('Frequency')\n",
        "ax.set_xlim(0, 20)\n",
        "plt.grid(True)\n",
        "save_plot_to_pdf(fig, 'Number of Contacts During Campaign')\n",
        "add_text_to_pdf(f\"Campaign Contacts Summary:\\n\\n{df['campaign'].describe().to_string()}\", \"Campaign Contacts Summary\")\n",
        "\n",
        "# Q12: Days Since Last Contact (pdays)\n",
        "fig, ax = plt.subplots(figsize=(10, 6))\n",
        "pdays_viz = df['pdays'].replace(-1, np.nan)\n",
        "sns.histplot(pdays_viz.dropna(), bins=50, kde=True, ax=ax)\n",
        "ax.set_title('Days Since Last Contact (pdays)')\n",
        "ax.set_xlabel('Days')\n",
        "ax.set_ylabel('Frequency')\n",
        "plt.grid(True)\n",
        "save_plot_to_pdf(fig, 'Days Since Last Contact (pdays)')\n",
        "add_text_to_pdf(f\"Pdays Summary (excluding clients not previously contacted):\\n\\n{pdays_viz.describe().to_string()}\", \"Pdays Summary\")\n",
        "\n",
        "# Q13: Number of Contacts Before Campaign\n",
        "fig, ax = plt.subplots(figsize=(10, 6))\n",
        "sns.histplot(df[df['previous'] > 0]['previous'], bins=30, kde=False, ax=ax)\n",
        "ax.set_title('Number of Contacts Before This Campaign')\n",
        "ax.set_xlabel('Number of Previous Contacts')\n",
        "ax.set_ylabel('Frequency')\n",
        "ax.set_xlim(0, 20)\n",
        "plt.grid(True)\n",
        "save_plot_to_pdf(fig, 'Number of Contacts Before This Campaign')\n",
        "add_text_to_pdf(f\"Previous Contacts Summary (for clients with previous contact):\\n\\n{df[df['previous'] > 0]['previous'].describe().to_string()}\", \"Previous Contacts Summary\")\n",
        "\n",
        "# Q14: Previous Campaign Outcome\n",
        "fig, ax = plt.subplots(figsize=(10, 6))\n",
        "sns.countplot(x='poutcome', data=df, order=df['poutcome'].value_counts().index, palette='coolwarm')\n",
        "ax.set_title('Previous Campaign Outcome')\n",
        "ax.set_xlabel('Previous Outcome')\n",
        "ax.set_ylabel('Count')\n",
        "plt.grid(axis='y')\n",
        "save_plot_to_pdf(fig, 'Previous Campaign Outcome')\n",
        "add_text_to_pdf(f\"Previous Campaign Outcome (%):\\n\\n{(df['poutcome'].value_counts(normalize=True) * 100).to_string()}\", \"Previous Campaign Outcome\")\n",
        "\n",
        "# Q15: Subscription to Term Deposit\n",
        "fig, ax = plt.subplots(figsize=(8, 6))\n",
        "df['y'].value_counts().plot(kind='pie', autopct='%1.1f%%', startangle=90, colors=['lightcoral', 'lightskyblue'], labels=['No', 'Yes'])\n",
        "ax.set_title('Subscription to Term Deposit (Target Variable)')\n",
        "ax.set_ylabel('')\n",
        "save_plot_to_pdf(fig, 'Subscription to Term Deposit')\n",
        "\n",
        "# Q16: Correlation Matrix\n",
        "df_corr = df.copy()\n",
        "df_corr['y_numeric'] = df_corr['y'].apply(lambda x: 1 if x == 'yes' else 0)\n",
        "numeric_cols = df_corr.select_dtypes(include=np.number).columns.tolist()\n",
        "correlation_matrix = df_corr[numeric_cols].corr()\n",
        "fig, ax = plt.subplots(figsize=(14, 10))\n",
        "sns.heatmap(correlation_matrix, annot=True, fmt='.2f', cmap='viridis', ax=ax)\n",
        "ax.set_title('Correlation Matrix of Numeric Features')\n",
        "save_plot_to_pdf(fig, 'Correlation Matrix')\n",
        "add_text_to_pdf(f\"Correlation with Target Variable (y_numeric):\\n\\n{correlation_matrix['y_numeric'].sort_values(ascending=False).to_string()}\", \"Correlation Matrix Details\")"
      ],
      "metadata": {
        "colab": {
          "base_uri": "https://localhost:8080/"
        },
        "id": "7ixo5ICY-GXr",
        "outputId": "86975395-d46e-4424-f784-65b2f6240ede"
      },
      "execution_count": 23,
      "outputs": [
        {
          "output_type": "stream",
          "name": "stdout",
          "text": [
            "Phase 2: Detailed Exploratory Data Analysis (EDA)\n",
            "Starting Analysis and Report Generation...\n",
            "A PDF report will be generated as Customer_Propensity_Model_Report.pdf\n"
          ]
        }
      ]
    },
    {
      "cell_type": "markdown",
      "source": [
        "**Data Preprocessing and Model Building**"
      ],
      "metadata": {
        "id": "ZWdf0WYI-QxP"
      }
    },
    {
      "cell_type": "code",
      "source": [
        "df['y'] = df['y'].apply(lambda x: 1 if x == 'yes' else 0)\n",
        "X = df.drop('y', axis=1)\n",
        "y = df['y']\n",
        "categorical_features = X.select_dtypes(include=['object']).columns\n",
        "numerical_features = X.select_dtypes(include=np.number).columns\n",
        "numerical_transformer = StandardScaler()\n",
        "categorical_transformer = OneHotEncoder(handle_unknown='ignore')\n",
        "preprocessor = ColumnTransformer(transformers=[('num', numerical_transformer, numerical_features), ('cat', categorical_transformer, categorical_features)])\n",
        "model = RandomForestClassifier(n_estimators=100, random_state=42, class_weight='balanced')\n",
        "pipeline = Pipeline(steps=[('preprocessor', preprocessor), ('classifier', model)])\n",
        "X_train, X_test, y_train, y_test = train_test_split(X, y, test_size=0.2, random_state=42, stratify=y)\n",
        "print('Data preprocessing and model pipeline are set up.')"
      ],
      "metadata": {
        "colab": {
          "base_uri": "https://localhost:8080/"
        },
        "id": "0_lecmgk-XkS",
        "outputId": "a90c4c28-2c78-48fc-9300-60eb5a57f93e"
      },
      "execution_count": 24,
      "outputs": [
        {
          "output_type": "stream",
          "name": "stdout",
          "text": [
            "Data preprocessing and model pipeline are set up.\n"
          ]
        }
      ]
    },
    {
      "cell_type": "markdown",
      "source": [
        "**Model Training and Evaluation**"
      ],
      "metadata": {
        "id": "f74zt6pB-fCt"
      }
    },
    {
      "cell_type": "code",
      "source": [
        "pipeline.fit(X_train, y_train)\n",
        "y_pred = pipeline.predict(X_test)\n",
        "y_pred_proba = pipeline.predict_proba(X_test)[:, 1]\n",
        "print('Model training and evaluation complete.')\n",
        "\n",
        "# Add model evaluation to PDF\n",
        "report_str = classification_report(y_test, y_pred)\n",
        "roc_str = f'ROC AUC Score: {roc_auc_score(y_test, y_pred_proba):.4f}'\n",
        "full_report_text = f\"Classification Report:\\n\\n{report_str}\\n\\n{roc_str}\"\n",
        "add_text_to_pdf(full_report_text, \"Model Evaluation Metrics\")\n",
        "\n",
        "ohe_feature_names = pipeline.named_steps['preprocessor'].named_transformers_['cat'].get_feature_names_out(categorical_features)\n",
        "all_feature_names = np.concatenate([numerical_features, ohe_feature_names])\n",
        "importances = pipeline.named_steps['classifier'].feature_importances_\n",
        "feature_importance_df = pd.DataFrame({'feature': all_feature_names, 'importance': importances}).sort_values(by='importance', ascending=False)\n",
        "\n",
        "fig, ax = plt.subplots(figsize=(12, 8))\n",
        "sns.barplot(x='importance', y='feature', data=feature_importance_df.head(20), palette='rocket')\n",
        "ax.set_title('Top 20 Feature Importances')\n",
        "save_plot_to_pdf(fig, 'Top 20 Feature Importances')\n",
        "\n",
        "feature_imp_text = feature_importance_df.head(20).to_string()\n",
        "add_text_to_pdf(f\"Top 20 Most Important Features:\\n\\n{feature_imp_text}\", \"Feature Importances\")"
      ],
      "metadata": {
        "colab": {
          "base_uri": "https://localhost:8080/"
        },
        "id": "zBZLpWkn-lOp",
        "outputId": "71956eb8-b5d5-46f2-d5c1-e2febe484517"
      },
      "execution_count": 25,
      "outputs": [
        {
          "output_type": "stream",
          "name": "stdout",
          "text": [
            "Model training and evaluation complete.\n"
          ]
        }
      ]
    },
    {
      "cell_type": "markdown",
      "source": [
        "**Close the PDF file**"
      ],
      "metadata": {
        "id": "cTu0gc2b-xvt"
      }
    },
    {
      "cell_type": "code",
      "source": [
        "pdf_pages.close()\n",
        "print(f'\\n================================================================================')\n",
        "print(f'                         ANALYSIS COMPLETE')\n",
        "print(f'================================================================================')\n",
        "print(f'A comprehensive PDF report has been saved as: {REPORT_FILENAME}')\n",
        "print(f'================================================================================')"
      ],
      "metadata": {
        "colab": {
          "base_uri": "https://localhost:8080/"
        },
        "id": "cBbU0BBY-5kX",
        "outputId": "ccdcc098-c64c-4f29-d239-065048f84b90"
      },
      "execution_count": 26,
      "outputs": [
        {
          "output_type": "stream",
          "name": "stdout",
          "text": [
            "\n",
            "================================================================================\n",
            "                         ANALYSIS COMPLETE\n",
            "================================================================================\n",
            "A comprehensive PDF report has been saved as: Customer_Propensity_Model_Report.pdf\n",
            "================================================================================\n"
          ]
        }
      ]
    }
  ]
}